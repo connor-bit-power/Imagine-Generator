{
  "cells": [
    {
      "cell_type": "code",
      "execution_count": 1,
      "metadata": {
        "id": "lIYdn1woOS1n"
      },
      "outputs": [],
      "source": [
        "!pip install -qqq openai"
      ]
    },
    {
      "cell_type": "code",
      "source": [
        "import openai\n",
        "\n",
        "openai.api_base = \"https://llama2.lepton.run/api/v1\"\n",
        "openai.api_key = \"sk-\" + \"a\" * 48"
      ],
      "metadata": {
        "id": "UCOfN-VEsy5m"
      },
      "execution_count": 2,
      "outputs": []
    },
    {
      "cell_type": "code",
      "source": [
        "sys_prompt = \"\"\"\n",
        "The following is a conversation with an AI assistant. The assistant is helpful, creative, clever, and very friendly.\n",
        "\"\"\"\n",
        "# Create a completion\n",
        "completion = openai.ChatCompletion.create(\n",
        "    model=\"gpt-3.5-turbo\",\n",
        "    messages=[\n",
        "        {\"role\": \"system\", \"content\": sys_prompt},\n",
        "        {\"role\": \"user\", \"content\": \"tell me a short story\"},\n",
        "    ],\n",
        "    stream=True,\n",
        "    max_tokens=64,\n",
        ")\n",
        "for chunk in completion:\n",
        "    content = chunk[\"choices\"][0][\"delta\"].get(\"content\")\n",
        "    if content:\n",
        "        print(content, end=\"\")\n",
        "print()"
      ],
      "metadata": {
        "colab": {
          "base_uri": "https://localhost:8080/"
        },
        "id": "y7eV3R87sz6Y",
        "outputId": "75896f74-408c-4946-8bbd-d392b1a4178b"
      },
      "execution_count": 3,
      "outputs": [
        {
          "output_type": "stream",
          "name": "stdout",
          "text": [
            "Of course! I'd be happy to tell you a short story. Here is one I came up with on the spot:\n",
            "\n",
            "Once upon a time, in a far-off land, there was a magical forest filled with towering trees, sparkling streams, and a variety of enchanting cre\n"
          ]
        }
      ]
    }
  ],
  "metadata": {
    "colab": {
      "name": "scratchpad",
      "provenance": []
    },
    "kernelspec": {
      "display_name": "Python 3",
      "name": "python3"
    }
  },
  "nbformat": 4,
  "nbformat_minor": 0
}